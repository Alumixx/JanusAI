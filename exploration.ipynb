{
 "cells": [
  {
   "cell_type": "code",
   "execution_count": 3,
   "id": "078728dd",
   "metadata": {},
   "outputs": [
    {
     "name": "stdout",
     "output_type": "stream",
     "text": [
      "Nombre de fichiers PDF : 478\n",
      "Extrait du fichier : 2023-EHT-SgrA.pdf\n",
      "\n",
      "Draft version November 17, 2023\n",
      "Typeset using LATEX twocolumn style in AASTeX63\n",
      "First Sagittarius A* Event Horizon Telescope Results. I. The Shadow of the Supermassive Black Hole\n",
      "in the Center of the Milky Way\n",
      "The Event Horizon Telescope Collaboration\n",
      "ABSTRACT\n",
      "We present the first Event Horizon Telescope (EHT) observations of Sagittarius A* (Sgr A∗), the\n",
      "Galactic center source associated with a supermassive black hole. These observations were conducted\n",
      "in 2017 using a global interferometric array of eight telescopes operating at a wavelength of λ = 1.3 mm.\n",
      "The EHT data resolve a compact emission region with intrahour variability. A variety of imaging and\n",
      "modeling analyses all support an image that is dominated by a bright, thick ring with a diameter of\n",
      "51.8 ± 2.3 µas (68% credible interval). The ring has modest azimuthal brightness asymmetry and a\n",
      "comparatively dim interior. Using a large suite of numerical simulations, we demonstrate that the\n",
      "EHT images of Sgr A∗are consistent with th\n"
     ]
    }
   ],
   "source": [
    "import fitz  # PyMuPDF\n",
    "from pathlib import Path\n",
    "\n",
    "pdf_folder = Path(\"docs\")\n",
    "pdf_files = list(pdf_folder.glob(\"*.pdf\"))\n",
    "\n",
    "print(f\"Nombre de fichiers PDF : {len(pdf_files)}\")\n",
    "\n",
    "# Lire un fichier pour tester\n",
    "sample_pdf = pdf_files[0]\n",
    "with fitz.open(sample_pdf) as doc:\n",
    "    text = \"\"\n",
    "    for page in doc:\n",
    "        text += page.get_text()\n",
    "\n",
    "print(f\"Extrait du fichier : {sample_pdf.name}\\n\")\n",
    "print(text[:1000])  # Affiche les 1000 premiers caractères\n"
   ]
  }
 ],
 "metadata": {
  "kernelspec": {
   "display_name": "venv",
   "language": "python",
   "name": "python3"
  },
  "language_info": {
   "codemirror_mode": {
    "name": "ipython",
    "version": 3
   },
   "file_extension": ".py",
   "mimetype": "text/x-python",
   "name": "python",
   "nbconvert_exporter": "python",
   "pygments_lexer": "ipython3",
   "version": "3.13.3"
  }
 },
 "nbformat": 4,
 "nbformat_minor": 5
}
